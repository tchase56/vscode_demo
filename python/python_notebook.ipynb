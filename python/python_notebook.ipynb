{
 "cells": [
  {
   "cell_type": "code",
   "execution_count": 72,
   "metadata": {},
   "outputs": [
    {
     "name": "stdout",
     "output_type": "stream",
     "text": [
      "The autoreload extension is already loaded. To reload it, use:\n",
      "  %reload_ext autoreload\n"
     ]
    }
   ],
   "source": [
    "# Import Libraries\n",
    "import pandas as pd\n",
    "import numpy as np\n",
    "from sklearn.model_selection import train_test_split\n",
    "from sklearn.linear_model import ElasticNet\n",
    "from python_functions import find_best_model, plot_train_test_metrics, eval_metrics\n",
    "%load_ext autoreload\n",
    "%autoreload 2"
   ]
  },
  {
   "cell_type": "markdown",
   "metadata": {},
   "source": [
    "## Training the Model\n",
    "\n",
    "First, train a linear regression model that takes two hyperparameters: alpha and l1_ratio.\n",
    "\n",
    "This example uses the familiar pandas, numpy, and sklearn APIs to create a simple machine learning model.\n",
    "\n",
    "You can run the example through the .py script using the following command.\n",
    "* python train.py \\<alpha\\> \\<l1_ratio\\>\n",
    "\n",
    "Or you can also use the notebook code below that does the same thing"
   ]
  },
  {
   "cell_type": "code",
   "execution_count": 73,
   "metadata": {},
   "outputs": [],
   "source": [
    "# Wine Quality Sample\n",
    "\n",
    "def train(in_alpha, in_l1_ratio):\n",
    "\n",
    "    np.random.seed(40)\n",
    "\n",
    "    # Read the wine-quality csv file from the URL\n",
    "    csv_url =\\\n",
    "        'http://archive.ics.uci.edu/ml/machine-learning-databases/wine-quality/winequality-red.csv'\n",
    "    data = pd.read_csv(csv_url, sep=';')\n",
    "\n",
    "    # Split the data into training and test sets. (0.75, 0.25) split.\n",
    "    train, test = train_test_split(data)\n",
    "\n",
    "    # The predicted column is \"quality\" which is a scalar from [3, 9]\n",
    "    train_x = train.drop([\"quality\"], axis=1)\n",
    "    test_x = test.drop([\"quality\"], axis=1)\n",
    "    train_y = train[[\"quality\"]]\n",
    "    test_y = test[[\"quality\"]]\n",
    "\n",
    "    # Set default values if no alpha is provided\n",
    "    if float(in_alpha) is None:\n",
    "        alpha = 0.5\n",
    "    else:\n",
    "        alpha = float(in_alpha)\n",
    "\n",
    "    # Set default values if no l1_ratio is provided\n",
    "    if float(in_l1_ratio) is None:\n",
    "        l1_ratio = 0.5\n",
    "    else:\n",
    "        l1_ratio = float(in_l1_ratio)\n",
    "\n",
    "    # Execute ElasticNet\n",
    "    lr = ElasticNet(alpha=alpha, l1_ratio=l1_ratio, random_state=42)\n",
    "    lr.fit(train_x, train_y)\n",
    "\n",
    "    # Evaluate Metrics\n",
    "    predicted_qualities = lr.predict(test_x)\n",
    "    (rmse, mae, r2) = eval_metrics(test_y, predicted_qualities)\n",
    "\n",
    "    return rmse, mae, r2"
   ]
  },
  {
   "cell_type": "code",
   "execution_count": 74,
   "metadata": {},
   "outputs": [
    {
     "data": {
      "text/html": [
       "<div>\n",
       "<style scoped>\n",
       "    .dataframe tbody tr th:only-of-type {\n",
       "        vertical-align: middle;\n",
       "    }\n",
       "\n",
       "    .dataframe tbody tr th {\n",
       "        vertical-align: top;\n",
       "    }\n",
       "\n",
       "    .dataframe thead th {\n",
       "        text-align: right;\n",
       "    }\n",
       "</style>\n",
       "<table border=\"1\" class=\"dataframe\">\n",
       "  <thead>\n",
       "    <tr style=\"text-align: right;\">\n",
       "      <th></th>\n",
       "      <th>alpha</th>\n",
       "      <th>l1</th>\n",
       "      <th>RMSE</th>\n",
       "      <th>MAE</th>\n",
       "      <th>R2</th>\n",
       "    </tr>\n",
       "  </thead>\n",
       "  <tbody>\n",
       "    <tr>\n",
       "      <th>0</th>\n",
       "      <td>0.25</td>\n",
       "      <td>0.25</td>\n",
       "      <td>0.738049</td>\n",
       "      <td>0.569031</td>\n",
       "      <td>0.228201</td>\n",
       "    </tr>\n",
       "    <tr>\n",
       "      <th>1</th>\n",
       "      <td>0.25</td>\n",
       "      <td>0.50</td>\n",
       "      <td>0.748931</td>\n",
       "      <td>0.580695</td>\n",
       "      <td>0.205275</td>\n",
       "    </tr>\n",
       "    <tr>\n",
       "      <th>2</th>\n",
       "      <td>0.25</td>\n",
       "      <td>0.75</td>\n",
       "      <td>0.766248</td>\n",
       "      <td>0.598598</td>\n",
       "      <td>0.168098</td>\n",
       "    </tr>\n",
       "    <tr>\n",
       "      <th>3</th>\n",
       "      <td>0.50</td>\n",
       "      <td>0.25</td>\n",
       "      <td>0.759655</td>\n",
       "      <td>0.591313</td>\n",
       "      <td>0.182351</td>\n",
       "    </tr>\n",
       "    <tr>\n",
       "      <th>4</th>\n",
       "      <td>0.50</td>\n",
       "      <td>0.50</td>\n",
       "      <td>0.793164</td>\n",
       "      <td>0.627195</td>\n",
       "      <td>0.108626</td>\n",
       "    </tr>\n",
       "    <tr>\n",
       "      <th>5</th>\n",
       "      <td>0.50</td>\n",
       "      <td>0.75</td>\n",
       "      <td>0.831866</td>\n",
       "      <td>0.665104</td>\n",
       "      <td>0.019517</td>\n",
       "    </tr>\n",
       "    <tr>\n",
       "      <th>6</th>\n",
       "      <td>0.75</td>\n",
       "      <td>0.25</td>\n",
       "      <td>0.783731</td>\n",
       "      <td>0.616547</td>\n",
       "      <td>0.129703</td>\n",
       "    </tr>\n",
       "    <tr>\n",
       "      <th>7</th>\n",
       "      <td>0.75</td>\n",
       "      <td>0.50</td>\n",
       "      <td>0.831870</td>\n",
       "      <td>0.665129</td>\n",
       "      <td>0.019506</td>\n",
       "    </tr>\n",
       "    <tr>\n",
       "      <th>8</th>\n",
       "      <td>0.75</td>\n",
       "      <td>0.75</td>\n",
       "      <td>0.833180</td>\n",
       "      <td>0.669235</td>\n",
       "      <td>0.016416</td>\n",
       "    </tr>\n",
       "  </tbody>\n",
       "</table>\n",
       "</div>"
      ],
      "text/plain": [
       "   alpha    l1      RMSE       MAE        R2\n",
       "0   0.25  0.25  0.738049  0.569031  0.228201\n",
       "1   0.25  0.50  0.748931  0.580695  0.205275\n",
       "2   0.25  0.75  0.766248  0.598598  0.168098\n",
       "3   0.50  0.25  0.759655  0.591313  0.182351\n",
       "4   0.50  0.50  0.793164  0.627195  0.108626\n",
       "5   0.50  0.75  0.831866  0.665104  0.019517\n",
       "6   0.75  0.25  0.783731  0.616547  0.129703\n",
       "7   0.75  0.50  0.831870  0.665129  0.019506\n",
       "8   0.75  0.75  0.833180  0.669235  0.016416"
      ]
     },
     "execution_count": 74,
     "metadata": {},
     "output_type": "execute_result"
    }
   ],
   "source": [
    "# Run the above training code with different hyperparameters (9 runs)\n",
    "result_dict = {\n",
    "    'alpha': [],\n",
    "    'l1': [],\n",
    "    'RMSE': [],\n",
    "    'MAE': [],\n",
    "    'R2': []\n",
    "}\n",
    "\n",
    "alphas = [0.25, 0.5, 0.75]\n",
    "l1_ratios = [0.25, 0.5, 0.75]\n",
    "for i in alphas:\n",
    "    for j in l1_ratios:\n",
    "        result_dict['alpha'].append(i)\n",
    "        result_dict['l1'].append(j)\n",
    "        rmse, mae, r2 = train(i,j)\n",
    "        result_dict['RMSE'].append(rmse)\n",
    "        result_dict['MAE'].append(mae)\n",
    "        result_dict['R2'].append(r2)\n",
    "        \n",
    "result_df = pd.DataFrame(result_dict)\n",
    "result_df"
   ]
  },
  {
   "cell_type": "markdown",
   "metadata": {},
   "source": [
    "## Choose the Best Performing Model From Above"
   ]
  },
  {
   "cell_type": "code",
   "execution_count": 75,
   "metadata": {},
   "outputs": [
    {
     "name": "stdout",
     "output_type": "stream",
     "text": [
      "  Train RMSE: 0.6933433867004593\n",
      "  Train MAE: 0.5491631400810368\n",
      "  Train R2: 0.24016877327069863\n",
      "  Test RMSE: 0.7380489682487518\n",
      "  Test MAE: 0.5690312554727687\n",
      "  Test R2: 0.22820122626467798\n"
     ]
    }
   ],
   "source": [
    "# Find the best model, then print train and test metrics\n",
    "alpha, l1_ratio = find_best_model(result_df, 'RMSE')\n",
    "\n",
    "np.random.seed(40)\n",
    "\n",
    "# Read the wine-quality csv file from the URL\n",
    "csv_url =\\\n",
    "    'http://archive.ics.uci.edu/ml/machine-learning-databases/wine-quality/winequality-red.csv'\n",
    "data = pd.read_csv(csv_url, sep=';')\n",
    "\n",
    "# Split the data into training and test sets. (0.75, 0.25) split.\n",
    "train, test = train_test_split(data)\n",
    "\n",
    "# The predicted column is \"quality\" which is a scalar from [3, 9]\n",
    "train_x = train.drop([\"quality\"], axis=1)\n",
    "test_x = test.drop([\"quality\"], axis=1)\n",
    "train_y = train[[\"quality\"]]\n",
    "test_y = test[[\"quality\"]]\n",
    "\n",
    "# Execute ElasticNet\n",
    "lr = ElasticNet(alpha=alpha, l1_ratio=l1_ratio, random_state=42)\n",
    "lr.fit(train_x, train_y)\n",
    "\n",
    "# Evaluate Metrics\n",
    "train_predictions = lr.predict(train_x)\n",
    "test_predictions = lr.predict(test_x)\n",
    "(rmse_train, mae_train, r2_train) = eval_metrics(train_y, train_predictions)\n",
    "(rmse_test, mae_test, r2_test) = eval_metrics(test_y, test_predictions)\n",
    "\n",
    "# Print out metrics\n",
    "print(\"  Train RMSE: %s\" % rmse_train)\n",
    "print(\"  Train MAE: %s\" % mae_train)\n",
    "print(\"  Train R2: %s\" % r2_train)\n",
    "print(\"  Test RMSE: %s\" % rmse_test)\n",
    "print(\"  Test MAE: %s\" % mae_test)\n",
    "print(\"  Test R2: %s\" % r2_test)"
   ]
  },
  {
   "cell_type": "markdown",
   "metadata": {},
   "source": [
    "## Plot Visualization of Best Performing Model"
   ]
  },
  {
   "cell_type": "code",
   "execution_count": 76,
   "metadata": {},
   "outputs": [
    {
     "name": "stdout",
     "output_type": "stream",
     "text": [
      "dataset      test     train\n",
      "metric                     \n",
      "mae      0.569031  0.549163\n",
      "r2       0.228201  0.240169\n",
      "rmse     0.738049  0.693343\n"
     ]
    },
    {
     "data": {
      "image/png": "[encoded data removed]",
      "text/plain": [
       "<Figure size 432x288 with 1 Axes>"
      ]
     },
     "metadata": {
      "needs_background": "light"
     },
     "output_type": "display_data"
    }
   ],
   "source": [
    "df = plot_train_test_metrics(rmse_train, mae_train, r2_train, rmse_test, mae_test, r2_test)\n",
    "print(df)"
   ]
  },
  {
   "cell_type": "code",
   "execution_count": null,
   "metadata": {},
   "outputs": [],
   "source": []
  }
 ],
 "metadata": {
  "kernelspec": {
   "display_name": "Python 3.9.12 ('base')",
   "language": "python",
   "name": "python3"
  },
  "language_info": {
   "codemirror_mode": {
    "name": "ipython",
    "version": 3
   },
   "file_extension": ".py",
   "mimetype": "text/x-python",
   "name": "python",
   "nbconvert_exporter": "python",
   "pygments_lexer": "ipython3",
   "version": "3.9.12"
  },
  "orig_nbformat": 4,
  "vscode": {
   "interpreter": {
    "hash": "d4d1e4263499bec80672ea0156c357c1ee493ec2b1c70f0acce89fc37c4a6abe"
   }
  }
 },
 "nbformat": 4,
 "nbformat_minor": 2
}
